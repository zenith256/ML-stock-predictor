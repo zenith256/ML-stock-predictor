{
  "nbformat": 4,
  "nbformat_minor": 0,
  "metadata": {
    "colab": {
      "provenance": []
    },
    "kernelspec": {
      "name": "python3",
      "display_name": "Python 3"
    },
    "language_info": {
      "name": "python"
    }
  },
  "cells": [
    {
      "cell_type": "code",
      "execution_count": null,
      "metadata": {
        "colab": {
          "base_uri": "https://localhost:8080/"
        },
        "id": "7JMok1CVNnS9",
        "outputId": "73e6b876-318a-490d-de11-8622d43e67e1"
      },
      "outputs": [
        {
          "output_type": "stream",
          "name": "stderr",
          "text": [
            "[*********************100%***********************]  1 of 1 completed\n",
            "[*********************100%***********************]  1 of 1 completed"
          ]
        },
        {
          "output_type": "stream",
          "name": "stdout",
          "text": [
            "              precision    recall  f1-score   support\n",
            "\n",
            "           1       1.00      1.00      1.00         2\n",
            "\n",
            "    accuracy                           1.00         2\n",
            "   macro avg       1.00      1.00      1.00         2\n",
            "weighted avg       1.00      1.00      1.00         2\n",
            "\n",
            "Stock is predicted to go up.\n"
          ]
        },
        {
          "output_type": "stream",
          "name": "stderr",
          "text": [
            "\n"
          ]
        }
      ],
      "source": [
        "# importing packages and loading data\n",
        "import pandas as pd\n",
        "import yfinance as yf\n",
        "from sklearn.metrics import classification_report\n",
        "from sklearn.model_selection import train_test_split\n",
        "from sklearn.decomposition import PCA\n",
        "from sklearn.preprocessing import StandardScaler\n",
        "from sklearn.linear_model import LogisticRegression\n",
        "import numpy as np\n",
        "import joblib\n",
        "\n",
        "# Fetching the data for the given period\n",
        "aapl = yf.download(\"AAPL\", start='2024-12-01', end='2024-12-13')\n",
        "\n",
        "# Generating relevant columns and removing NaN values\n",
        "aapl['close-open'] = aapl['Close'] - aapl['Open']\n",
        "aapl['increase'] = aapl['Close'].shift(-1) - aapl['Close']\n",
        "aapl['Y'] = aapl['increase'].apply(lambda x: 1 if x > 0 else (0 if x == 0 else -1))  # Dependent variable\n",
        "aapl = aapl.dropna()  # Dropping rows with NaN values\n",
        "\n",
        "# Features for scaling (match this with what you used during training)\n",
        "features = ['close-open', 'Open', 'High', 'Low', 'Close', 'Volume']\n",
        "X = aapl[features]\n",
        "Y = aapl['Y']\n",
        "\n",
        "# Scaling the features\n",
        "scaler = StandardScaler()\n",
        "X_scaled = scaler.fit_transform(X)\n",
        "\n",
        "# Applying PCA\n",
        "pca = PCA(n_components=3)\n",
        "X_pca = pca.fit_transform(X_scaled)\n",
        "\n",
        "# Splitting the data into training and testing sets\n",
        "X_train, X_test, y_train, y_test = train_test_split(X_pca, Y, test_size=0.2, random_state=42)\n",
        "\n",
        "# Training the Logistic Regression model\n",
        "model = LogisticRegression(random_state=42)\n",
        "model.fit(X_train, y_train)\n",
        "\n",
        "# Making predictions and evaluating the model\n",
        "y_pred = model.predict(X_test)\n",
        "joblib.dump(model, 'model.pkl')  # Save the model to disk\n",
        "joblib.dump(scaler, 'scaler.pkl')  # Save the scaler\n",
        "joblib.dump(pca, 'pca.pkl')  # Save the PCA\n",
        "print(classification_report(y_test, y_pred))  # Print classification report\n",
        "\n",
        "\n",
        "# Function to fetch the latest data and make predictions\n",
        "def predict_next_day_movement(stock_symbol=\"AAPL\"):\n",
        "    # Fetch the latest stock data (last 5 days)\n",
        "    data = yf.download(stock_symbol, period=\"5d\", interval=\"1d\")\n",
        "\n",
        "    # Generate the same features as before\n",
        "    data['close-open'] = data['Close'] - data['Open']\n",
        "    data['increase'] = data['Close'].shift(-1) - data['Close']\n",
        "\n",
        "    # Drop the last row as it's the current day's data and has no \"next day\" value\n",
        "    data = data.dropna()\n",
        "\n",
        "    # Extract all the features for prediction (same features used in training)\n",
        "    latest_data = data[features].iloc[-1]  # Keep all the features\n",
        "\n",
        "    # Load the pre-trained scaler and pca (from the saved files)\n",
        "    scaler = joblib.load('scaler.pkl')\n",
        "    pca = joblib.load('pca.pkl')\n",
        "    model = joblib.load('model.pkl')\n",
        "\n",
        "    # Scale the features using the same scaler as used during training\n",
        "    latest_data_scaled = scaler.transform([latest_data])  # Apply same scaling as training data\n",
        "\n",
        "    # Apply PCA transformation using the same PCA object as used during training\n",
        "    latest_data_pca = pca.transform(latest_data_scaled)\n",
        "\n",
        "    # Ensure the input shape is correct (it should be 1 sample with 3 features)\n",
        "    if latest_data_pca.shape[1] != 3:\n",
        "        raise ValueError(f\"Expected 3 features after PCA, got {latest_data_pca.shape[1]} features.\")\n",
        "\n",
        "    # Make the prediction\n",
        "    prediction = model.predict(latest_data_pca)\n",
        "\n",
        "    # Translate the prediction to a readable format\n",
        "    if prediction == 1:\n",
        "        prediction_text = \"Stock is predicted to go up.\"\n",
        "    elif prediction == 0:\n",
        "        prediction_text = \"Stock is predicted to stay the same.\"\n",
        "    else:\n",
        "        prediction_text = \"Stock is predicted to go down.\"\n",
        "\n",
        "    # Return the prediction\n",
        "    return prediction_text\n",
        "\n",
        "\n",
        "# Test the prediction function\n",
        "prediction = predict_next_day_movement()\n",
        "print(prediction)\n"
      ]
    },
    {
      "cell_type": "code",
      "source": [],
      "metadata": {
        "id": "Uk5L93Kt3WRJ"
      },
      "execution_count": null,
      "outputs": []
    },
    {
      "cell_type": "code",
      "source": [],
      "metadata": {
        "id": "cXUGO7GP3Zsc"
      },
      "execution_count": null,
      "outputs": []
    },
    {
      "cell_type": "code",
      "source": [],
      "metadata": {
        "id": "4MPlhZhA3bZ9"
      },
      "execution_count": null,
      "outputs": []
    },
    {
      "cell_type": "code",
      "source": [],
      "metadata": {
        "id": "yL95GdT_a9dH"
      },
      "execution_count": null,
      "outputs": []
    },
    {
      "cell_type": "markdown",
      "source": [
        "Some ML Projects that I've found:\n",
        "\n",
        "\n",
        "*   HK/Non-HK Usernames: Analysing classification of IG usernames to be \"HK\" or non-HK. Shows how to do data cleaning and labelling. Methods used include t-SNE, **logistic regression, random forest**, supported vector mechines (SVM), **confusion matrix**. (https://www.reddit.com/r/learnmachinelearning/comments/1bhvfnd/rate_my_first_ml_project/)\n",
        "\n",
        "*   Simple NVIDIA stock price predictor: More digestable. Uses random forest. Code for ML, prediction, backtesting seems easier to understand? Variables used: Close, Volume, Open, High, Low, Rolling average of stock price over n days (https://github.com/mar-antaya/predict_nvda/blob/main/predict_nvda.ipynb)\n",
        "\n",
        "*   Geeks4Geeks Stock Price Predictor: Uses variables such as \"open-close\", \"high-low\", \"is-quarter-end\" (i.e at the end of quarter, when companies release their earnings report) (https://www.geeksforgeeks.org/stock-price-prediction-using-machine-learning-in-python/)\n",
        "\n",
        "*   ML Stock Prediction (Neural Network): A different approach. Using just a few predictors to generate forecasts. Seems a bit beyond us for now. But still including this because of what it said in the conclusion - \"it would be interesting to factor in sentiment analysis on news and social media regarding the stock market in general\" (https://www.analyticsvidhya.com/blog/2021/10/machine-learning-for-stock-market-prediction-with-step-by-step-implementation/)\n",
        "\n",
        "\n",
        "More finance statistics we could look at (fundamental analysis - which I'm also quite clueless about):\n",
        "\n",
        "*   Investopedia: Fundamental Analysis.\n",
        "(https://www.investopedia.com/terms/f/fundamentalanalysis.asp#:~:text=Fundamental%20analysis%20(FA)%20is%20a,related%20economic%20and%20financial%20factors.&text=The%20end%20goal%20is%20to,security%20is%20undervalued%20or%20overvalued)\n",
        "*   Some key ratios to look at include:  \n",
        "Price to earnings (P/E) ratio - overvalued/undervalued, \\\n",
        "Earnings Per Share (EPS),\n",
        "Return on Equity (ROE)\n",
        "Debt to equity (D/E) - how much of its assets are financed by debt (as opposed to equity), \\\n",
        "EBITDA (Earnings before interests, taxes, depreciation and amortization)\n",
        "\n",
        "\n",
        "*   List item\n",
        "*   List item\n",
        "\n",
        "\n",
        "\n",
        "\n",
        "\n"
      ],
      "metadata": {
        "id": "Dx8ru1qsVaKM"
      }
    }
  ]
}